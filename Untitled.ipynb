{
 "cells": [
  {
   "cell_type": "code",
   "execution_count": 4,
   "id": "6b02e5c7-df45-40ed-8d14-3b6437561d45",
   "metadata": {},
   "outputs": [],
   "source": [
    "import pandas as pd\n",
    "import numpy as np\n",
    "\n",
    "# Load the dataset\n",
    "file_path = \"/Users/prernapawar/downloads/Company Finance.csv\"  # Update this path if needed\n",
    "df = pd.read_csv(file_path)\n",
    "\n",
    "\n"
   ]
  },
  {
   "cell_type": "code",
   "execution_count": 5,
   "id": "4673b97a-55dd-4e8c-9503-2064220e5f5e",
   "metadata": {},
   "outputs": [],
   "source": [
    "# Step 1: Clean column names (remove leading/trailing spaces)\n",
    "df.columns = df.columns.str.strip()\n",
    "\n",
    "# Step 2: List of columns with currency or numeric values stored as strings\n",
    "currency_cols = [\n",
    "    \"Units Sold\", \"Manufacturing Price\", \"Sale Price\", \"Gross Sales\",\n",
    "    \"Discounts\", \"Sales\", \"COGS\", \"Profit\"\n",
    "]\n",
    "\n"
   ]
  },
  {
   "cell_type": "code",
   "execution_count": 6,
   "id": "2265cf03-320a-4530-a1ec-a499007ad19b",
   "metadata": {},
   "outputs": [],
   "source": [
    "# Step 3: Function to clean currency-style values\n",
    "def clean_currency(x):\n",
    "    if isinstance(x, str):\n",
    "        x = x.replace(\"$\", \"\").replace(\",\", \"\").replace(\" \", \"\").replace(\"-\", \"0\")\n",
    "    try:\n",
    "        return float(x)\n",
    "    except:\n",
    "        return np.nan\n",
    "\n",
    "# Step 4: Apply the cleaning function to currency columns\n",
    "for col in currency_cols:\n",
    "    df[col] = df[col].apply(clean_currency)\n",
    "\n"
   ]
  },
  {
   "cell_type": "code",
   "execution_count": 7,
   "id": "3dfad43b-da39-47b9-9f18-89c9caa69b4b",
   "metadata": {},
   "outputs": [
    {
     "name": "stdout",
     "output_type": "stream",
     "text": [
      "Cleaned data saved to: Cleaned_Company_Finance.csv\n"
     ]
    }
   ],
   "source": [
    "# Step 5: Convert Date column to proper datetime format\n",
    "df[\"Date\"] = pd.to_datetime(df[\"Date\"], format=\"%m/%d/%Y\")\n",
    "\n",
    "# Step 6: Create new derived metrics\n",
    "df[\"Profit Margin\"] = df[\"Profit\"] / df[\"Sales\"]\n",
    "df[\"Revenue per Unit\"] = df[\"Sales\"] / df[\"Units Sold\"]\n",
    "\n",
    "# Step 7: Save cleaned dataset\n",
    "output_path = \"Cleaned_Company_Finance.csv\"\n",
    "df.to_csv(output_path, index=False)\n",
    "\n",
    "print(f\"Cleaned data saved to: {output_path}\")"
   ]
  },
  {
   "cell_type": "code",
   "execution_count": 12,
   "id": "c68153fc-c6c7-4c39-a276-0cefa655ccd2",
   "metadata": {},
   "outputs": [
    {
     "name": "stdout",
     "output_type": "stream",
     "text": [
      "✅ File saved to: /Users/prernapawar/Downloads/Cleaned_Company_Finance.csv\n"
     ]
    }
   ],
   "source": [
    "import pandas as pd\n",
    "import numpy as np\n",
    "\n",
    "# Load your file (assuming you already have the cleaned DataFrame)\n",
    "df = pd.read_csv(\"/Users/prernapawar/downloads/Company Finance.csv\")  \n",
    "\n",
    "# (Optional) Clean again just in case\n",
    "df.columns = df.columns.str.strip()\n",
    "currency_cols = [\n",
    "    \"Units Sold\", \"Manufacturing Price\", \"Sale Price\", \"Gross Sales\",\n",
    "    \"Discounts\", \"Sales\", \"COGS\", \"Profit\"\n",
    "]\n",
    "def clean_currency(x):\n",
    "    if isinstance(x, str):\n",
    "        x = x.replace(\"$\", \"\").replace(\",\", \"\").replace(\" \", \"\").replace(\"-\", \"0\")\n",
    "    try:\n",
    "        return float(x)\n",
    "    except:\n",
    "        return np.nan\n",
    "\n",
    "for col in currency_cols:\n",
    "    df[col] = df[col].apply(clean_currency)\n",
    "\n",
    "df[\"Date\"] = pd.to_datetime(df[\"Date\"], format=\"%m/%d/%Y\")\n",
    "df[\"Profit Margin\"] = df[\"Profit\"] / df[\"Sales\"]\n",
    "df[\"Revenue per Unit\"] = df[\"Sales\"] / df[\"Units Sold\"]\n",
    "\n",
    "# 🔽 Set your Downloads path\n",
    "\n",
    "downloads_path = \"/Users/prernapawar/Downloads/Cleaned_Company_Finance.csv\"  # For Mac\n",
    "\n",
    "# 💾 Save to Downloads\n",
    "df.to_csv(downloads_path, index=False)\n",
    "\n",
    "print(f\"File saved to: {downloads_path}\")\n"
   ]
  }
 ],
 "metadata": {
  "kernelspec": {
   "display_name": "Python 3 (ipykernel)",
   "language": "python",
   "name": "python3"
  },
  "language_info": {
   "codemirror_mode": {
    "name": "ipython",
    "version": 3
   },
   "file_extension": ".py",
   "mimetype": "text/x-python",
   "name": "python",
   "nbconvert_exporter": "python",
   "pygments_lexer": "ipython3",
   "version": "3.12.2"
  }
 },
 "nbformat": 4,
 "nbformat_minor": 5
}
